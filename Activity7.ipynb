{
 "cells": [
  {
   "cell_type": "code",
   "execution_count": 38,
   "metadata": {},
   "outputs": [],
   "source": [
    "import numpy as np\n",
    "import pandas as pd\n",
    "import matplotlib.pyplot as plt\n",
    "import plotly.express as px\n",
    "from sklearn import preprocessing\n",
    "from sklearn import model_selection\n",
    "from sklearn import tree\n",
    "from sklearn.model_selection import train_test_split, GridSearchCV\n",
    "from sklearn.neighbors import KNeighborsClassifier\n",
    "from sklearn.tree import DecisionTreeClassifier\n",
    "from sklearn.ensemble import RandomForestClassifier\n",
    "from sklearn.metrics import accuracy_score, classification_report, confusion_matrix"
   ]
  },
  {
   "cell_type": "markdown",
   "metadata": {},
   "source": [
    "## (a) Get Data"
   ]
  },
  {
   "cell_type": "code",
   "execution_count": 39,
   "metadata": {},
   "outputs": [
    {
     "data": {
      "text/html": [
       "<div>\n",
       "<style scoped>\n",
       "    .dataframe tbody tr th:only-of-type {\n",
       "        vertical-align: middle;\n",
       "    }\n",
       "\n",
       "    .dataframe tbody tr th {\n",
       "        vertical-align: top;\n",
       "    }\n",
       "\n",
       "    .dataframe thead th {\n",
       "        text-align: right;\n",
       "    }\n",
       "</style>\n",
       "<table border=\"1\" class=\"dataframe\">\n",
       "  <thead>\n",
       "    <tr style=\"text-align: right;\">\n",
       "      <th></th>\n",
       "      <th>ID</th>\n",
       "      <th>Species</th>\n",
       "      <th>Owner</th>\n",
       "      <th>Country.of.Origin</th>\n",
       "      <th>Farm.Name</th>\n",
       "      <th>Lot.Number</th>\n",
       "      <th>Mill</th>\n",
       "      <th>ICO.Number</th>\n",
       "      <th>Company</th>\n",
       "      <th>Altitude</th>\n",
       "      <th>...</th>\n",
       "      <th>Color</th>\n",
       "      <th>Category.Two.Defects</th>\n",
       "      <th>Expiration</th>\n",
       "      <th>Certification.Body</th>\n",
       "      <th>Certification.Address</th>\n",
       "      <th>Certification.Contact</th>\n",
       "      <th>unit_of_measurement</th>\n",
       "      <th>altitude_low_meters</th>\n",
       "      <th>altitude_high_meters</th>\n",
       "      <th>altitude_mean_meters</th>\n",
       "    </tr>\n",
       "  </thead>\n",
       "  <tbody>\n",
       "    <tr>\n",
       "      <th>0</th>\n",
       "      <td>1</td>\n",
       "      <td>Arabica</td>\n",
       "      <td>metad plc</td>\n",
       "      <td>Ethiopia</td>\n",
       "      <td>metad plc</td>\n",
       "      <td>NaN</td>\n",
       "      <td>metad plc</td>\n",
       "      <td>2014/2015</td>\n",
       "      <td>metad agricultural developmet plc</td>\n",
       "      <td>1950-2200</td>\n",
       "      <td>...</td>\n",
       "      <td>Green</td>\n",
       "      <td>0</td>\n",
       "      <td>April 3rd, 2016</td>\n",
       "      <td>METAD Agricultural Development plc</td>\n",
       "      <td>309fcf77415a3661ae83e027f7e5f05dad786e44</td>\n",
       "      <td>19fef5a731de2db57d16da10287413f5f99bc2dd</td>\n",
       "      <td>m</td>\n",
       "      <td>1950.00</td>\n",
       "      <td>2200.00</td>\n",
       "      <td>2075.00</td>\n",
       "    </tr>\n",
       "    <tr>\n",
       "      <th>1</th>\n",
       "      <td>2</td>\n",
       "      <td>Arabica</td>\n",
       "      <td>metad plc</td>\n",
       "      <td>Ethiopia</td>\n",
       "      <td>metad plc</td>\n",
       "      <td>NaN</td>\n",
       "      <td>metad plc</td>\n",
       "      <td>2014/2015</td>\n",
       "      <td>metad agricultural developmet plc</td>\n",
       "      <td>1950-2200</td>\n",
       "      <td>...</td>\n",
       "      <td>Green</td>\n",
       "      <td>1</td>\n",
       "      <td>April 3rd, 2016</td>\n",
       "      <td>METAD Agricultural Development plc</td>\n",
       "      <td>309fcf77415a3661ae83e027f7e5f05dad786e44</td>\n",
       "      <td>19fef5a731de2db57d16da10287413f5f99bc2dd</td>\n",
       "      <td>m</td>\n",
       "      <td>1950.00</td>\n",
       "      <td>2200.00</td>\n",
       "      <td>2075.00</td>\n",
       "    </tr>\n",
       "    <tr>\n",
       "      <th>2</th>\n",
       "      <td>3</td>\n",
       "      <td>Arabica</td>\n",
       "      <td>grounds for health admin</td>\n",
       "      <td>Guatemala</td>\n",
       "      <td>san marcos barrancas \"san cristobal cuch</td>\n",
       "      <td>NaN</td>\n",
       "      <td>NaN</td>\n",
       "      <td>NaN</td>\n",
       "      <td>NaN</td>\n",
       "      <td>1600 - 1800 m</td>\n",
       "      <td>...</td>\n",
       "      <td>NaN</td>\n",
       "      <td>0</td>\n",
       "      <td>May 31st, 2011</td>\n",
       "      <td>Specialty Coffee Association</td>\n",
       "      <td>36d0d00a3724338ba7937c52a378d085f2172daa</td>\n",
       "      <td>0878a7d4b9d35ddbf0fe2ce69a2062cceb45a660</td>\n",
       "      <td>m</td>\n",
       "      <td>1600.00</td>\n",
       "      <td>1800.00</td>\n",
       "      <td>1700.00</td>\n",
       "    </tr>\n",
       "    <tr>\n",
       "      <th>3</th>\n",
       "      <td>4</td>\n",
       "      <td>Arabica</td>\n",
       "      <td>yidnekachew dabessa</td>\n",
       "      <td>Ethiopia</td>\n",
       "      <td>yidnekachew dabessa coffee plantation</td>\n",
       "      <td>NaN</td>\n",
       "      <td>wolensu</td>\n",
       "      <td>NaN</td>\n",
       "      <td>yidnekachew debessa coffee plantation</td>\n",
       "      <td>1800-2200</td>\n",
       "      <td>...</td>\n",
       "      <td>Green</td>\n",
       "      <td>2</td>\n",
       "      <td>March 25th, 2016</td>\n",
       "      <td>METAD Agricultural Development plc</td>\n",
       "      <td>309fcf77415a3661ae83e027f7e5f05dad786e44</td>\n",
       "      <td>19fef5a731de2db57d16da10287413f5f99bc2dd</td>\n",
       "      <td>m</td>\n",
       "      <td>1800.00</td>\n",
       "      <td>2200.00</td>\n",
       "      <td>2000.00</td>\n",
       "    </tr>\n",
       "    <tr>\n",
       "      <th>4</th>\n",
       "      <td>5</td>\n",
       "      <td>Arabica</td>\n",
       "      <td>metad plc</td>\n",
       "      <td>Ethiopia</td>\n",
       "      <td>metad plc</td>\n",
       "      <td>NaN</td>\n",
       "      <td>metad plc</td>\n",
       "      <td>2014/2015</td>\n",
       "      <td>metad agricultural developmet plc</td>\n",
       "      <td>1950-2200</td>\n",
       "      <td>...</td>\n",
       "      <td>Green</td>\n",
       "      <td>2</td>\n",
       "      <td>April 3rd, 2016</td>\n",
       "      <td>METAD Agricultural Development plc</td>\n",
       "      <td>309fcf77415a3661ae83e027f7e5f05dad786e44</td>\n",
       "      <td>19fef5a731de2db57d16da10287413f5f99bc2dd</td>\n",
       "      <td>m</td>\n",
       "      <td>1950.00</td>\n",
       "      <td>2200.00</td>\n",
       "      <td>2075.00</td>\n",
       "    </tr>\n",
       "    <tr>\n",
       "      <th>...</th>\n",
       "      <td>...</td>\n",
       "      <td>...</td>\n",
       "      <td>...</td>\n",
       "      <td>...</td>\n",
       "      <td>...</td>\n",
       "      <td>...</td>\n",
       "      <td>...</td>\n",
       "      <td>...</td>\n",
       "      <td>...</td>\n",
       "      <td>...</td>\n",
       "      <td>...</td>\n",
       "      <td>...</td>\n",
       "      <td>...</td>\n",
       "      <td>...</td>\n",
       "      <td>...</td>\n",
       "      <td>...</td>\n",
       "      <td>...</td>\n",
       "      <td>...</td>\n",
       "      <td>...</td>\n",
       "      <td>...</td>\n",
       "      <td>...</td>\n",
       "    </tr>\n",
       "    <tr>\n",
       "      <th>1306</th>\n",
       "      <td>1307</td>\n",
       "      <td>Arabica</td>\n",
       "      <td>juan carlos garcia lopez</td>\n",
       "      <td>Mexico</td>\n",
       "      <td>el centenario</td>\n",
       "      <td>NaN</td>\n",
       "      <td>la esperanza, municipio juchique de ferrer, ve...</td>\n",
       "      <td>1104328663</td>\n",
       "      <td>terra mia</td>\n",
       "      <td>900</td>\n",
       "      <td>...</td>\n",
       "      <td>None</td>\n",
       "      <td>20</td>\n",
       "      <td>September 17th, 2013</td>\n",
       "      <td>AMECAFE</td>\n",
       "      <td>59e396ad6e22a1c22b248f958e1da2bd8af85272</td>\n",
       "      <td>0eb4ee5b3f47b20b049548a2fd1e7d4a2b70d0a7</td>\n",
       "      <td>m</td>\n",
       "      <td>900.00</td>\n",
       "      <td>900.00</td>\n",
       "      <td>900.00</td>\n",
       "    </tr>\n",
       "    <tr>\n",
       "      <th>1307</th>\n",
       "      <td>1308</td>\n",
       "      <td>Arabica</td>\n",
       "      <td>myriam kaplan-pasternak</td>\n",
       "      <td>Haiti</td>\n",
       "      <td>200 farms</td>\n",
       "      <td>NaN</td>\n",
       "      <td>coeb koperativ ekselsyo basen (350 members)</td>\n",
       "      <td>NaN</td>\n",
       "      <td>haiti coffee</td>\n",
       "      <td>~350m</td>\n",
       "      <td>...</td>\n",
       "      <td>Blue-Green</td>\n",
       "      <td>16</td>\n",
       "      <td>May 24th, 2013</td>\n",
       "      <td>Specialty Coffee Association</td>\n",
       "      <td>36d0d00a3724338ba7937c52a378d085f2172daa</td>\n",
       "      <td>0878a7d4b9d35ddbf0fe2ce69a2062cceb45a660</td>\n",
       "      <td>m</td>\n",
       "      <td>350.00</td>\n",
       "      <td>350.00</td>\n",
       "      <td>350.00</td>\n",
       "    </tr>\n",
       "    <tr>\n",
       "      <th>1308</th>\n",
       "      <td>1309</td>\n",
       "      <td>Arabica</td>\n",
       "      <td>exportadora atlantic, s.a.</td>\n",
       "      <td>Nicaragua</td>\n",
       "      <td>finca las marÃ­as</td>\n",
       "      <td>017-053-0211/ 017-053-0212</td>\n",
       "      <td>beneficio atlantic condega</td>\n",
       "      <td>017-053-0211/ 017-053-0212</td>\n",
       "      <td>exportadora atlantic s.a</td>\n",
       "      <td>1100</td>\n",
       "      <td>...</td>\n",
       "      <td>Green</td>\n",
       "      <td>5</td>\n",
       "      <td>June 6th, 2018</td>\n",
       "      <td>Instituto HondureÃ±o del CafÃ©</td>\n",
       "      <td>b4660a57e9f8cc613ae5b8f02bfce8634c763ab4</td>\n",
       "      <td>7f521ca403540f81ec99daec7da19c2788393880</td>\n",
       "      <td>m</td>\n",
       "      <td>1100.00</td>\n",
       "      <td>1100.00</td>\n",
       "      <td>1100.00</td>\n",
       "    </tr>\n",
       "    <tr>\n",
       "      <th>1309</th>\n",
       "      <td>1310</td>\n",
       "      <td>Arabica</td>\n",
       "      <td>juan luis alvarado romero</td>\n",
       "      <td>Guatemala</td>\n",
       "      <td>finca el limon</td>\n",
       "      <td>NaN</td>\n",
       "      <td>beneficio serben</td>\n",
       "      <td>11/853/165</td>\n",
       "      <td>unicafe</td>\n",
       "      <td>4650</td>\n",
       "      <td>...</td>\n",
       "      <td>Green</td>\n",
       "      <td>4</td>\n",
       "      <td>May 24th, 2013</td>\n",
       "      <td>Asociacion Nacional Del CafÃ©</td>\n",
       "      <td>b1f20fe3a819fd6b2ee0eb8fdc3da256604f1e53</td>\n",
       "      <td>724f04ad10ed31dbb9d260f0dfd221ba48be8a95</td>\n",
       "      <td>ft</td>\n",
       "      <td>1417.32</td>\n",
       "      <td>1417.32</td>\n",
       "      <td>1417.32</td>\n",
       "    </tr>\n",
       "    <tr>\n",
       "      <th>1310</th>\n",
       "      <td>1312</td>\n",
       "      <td>Arabica</td>\n",
       "      <td>bismarck castro</td>\n",
       "      <td>Honduras</td>\n",
       "      <td>los hicaques</td>\n",
       "      <td>103</td>\n",
       "      <td>cigrah s.a de c.v.</td>\n",
       "      <td>13-111-053</td>\n",
       "      <td>cigrah s.a de c.v</td>\n",
       "      <td>1400</td>\n",
       "      <td>...</td>\n",
       "      <td>Green</td>\n",
       "      <td>2</td>\n",
       "      <td>April 28th, 2018</td>\n",
       "      <td>Instituto HondureÃ±o del CafÃ©</td>\n",
       "      <td>b4660a57e9f8cc613ae5b8f02bfce8634c763ab4</td>\n",
       "      <td>7f521ca403540f81ec99daec7da19c2788393880</td>\n",
       "      <td>m</td>\n",
       "      <td>1400.00</td>\n",
       "      <td>1400.00</td>\n",
       "      <td>1400.00</td>\n",
       "    </tr>\n",
       "  </tbody>\n",
       "</table>\n",
       "<p>1311 rows × 44 columns</p>\n",
       "</div>"
      ],
      "text/plain": [
       "        ID  Species                       Owner Country.of.Origin  \\\n",
       "0        1  Arabica                   metad plc          Ethiopia   \n",
       "1        2  Arabica                   metad plc          Ethiopia   \n",
       "2        3  Arabica    grounds for health admin         Guatemala   \n",
       "3        4  Arabica         yidnekachew dabessa          Ethiopia   \n",
       "4        5  Arabica                   metad plc          Ethiopia   \n",
       "...    ...      ...                         ...               ...   \n",
       "1306  1307  Arabica    juan carlos garcia lopez            Mexico   \n",
       "1307  1308  Arabica     myriam kaplan-pasternak             Haiti   \n",
       "1308  1309  Arabica  exportadora atlantic, s.a.         Nicaragua   \n",
       "1309  1310  Arabica   juan luis alvarado romero         Guatemala   \n",
       "1310  1312  Arabica             bismarck castro          Honduras   \n",
       "\n",
       "                                     Farm.Name                  Lot.Number  \\\n",
       "0                                    metad plc                         NaN   \n",
       "1                                    metad plc                         NaN   \n",
       "2     san marcos barrancas \"san cristobal cuch                         NaN   \n",
       "3        yidnekachew dabessa coffee plantation                         NaN   \n",
       "4                                    metad plc                         NaN   \n",
       "...                                        ...                         ...   \n",
       "1306                             el centenario                         NaN   \n",
       "1307                                 200 farms                         NaN   \n",
       "1308                         finca las marÃ­as  017-053-0211/ 017-053-0212   \n",
       "1309                            finca el limon                         NaN   \n",
       "1310                              los hicaques                         103   \n",
       "\n",
       "                                                   Mill  \\\n",
       "0                                             metad plc   \n",
       "1                                             metad plc   \n",
       "2                                                   NaN   \n",
       "3                                               wolensu   \n",
       "4                                             metad plc   \n",
       "...                                                 ...   \n",
       "1306  la esperanza, municipio juchique de ferrer, ve...   \n",
       "1307        coeb koperativ ekselsyo basen (350 members)   \n",
       "1308                         beneficio atlantic condega   \n",
       "1309                                   beneficio serben   \n",
       "1310                                 cigrah s.a de c.v.   \n",
       "\n",
       "                      ICO.Number                                Company  \\\n",
       "0                      2014/2015      metad agricultural developmet plc   \n",
       "1                      2014/2015      metad agricultural developmet plc   \n",
       "2                            NaN                                    NaN   \n",
       "3                            NaN  yidnekachew debessa coffee plantation   \n",
       "4                      2014/2015      metad agricultural developmet plc   \n",
       "...                          ...                                    ...   \n",
       "1306                  1104328663                              terra mia   \n",
       "1307                         NaN                           haiti coffee   \n",
       "1308  017-053-0211/ 017-053-0212               exportadora atlantic s.a   \n",
       "1309                  11/853/165                                unicafe   \n",
       "1310                  13-111-053                      cigrah s.a de c.v   \n",
       "\n",
       "           Altitude  ...       Color Category.Two.Defects  \\\n",
       "0         1950-2200  ...       Green                    0   \n",
       "1         1950-2200  ...       Green                    1   \n",
       "2     1600 - 1800 m  ...         NaN                    0   \n",
       "3         1800-2200  ...       Green                    2   \n",
       "4         1950-2200  ...       Green                    2   \n",
       "...             ...  ...         ...                  ...   \n",
       "1306            900  ...        None                   20   \n",
       "1307          ~350m  ...  Blue-Green                   16   \n",
       "1308           1100  ...       Green                    5   \n",
       "1309           4650  ...       Green                    4   \n",
       "1310           1400  ...       Green                    2   \n",
       "\n",
       "                Expiration                  Certification.Body  \\\n",
       "0          April 3rd, 2016  METAD Agricultural Development plc   \n",
       "1          April 3rd, 2016  METAD Agricultural Development plc   \n",
       "2           May 31st, 2011        Specialty Coffee Association   \n",
       "3         March 25th, 2016  METAD Agricultural Development plc   \n",
       "4          April 3rd, 2016  METAD Agricultural Development plc   \n",
       "...                    ...                                 ...   \n",
       "1306  September 17th, 2013                             AMECAFE   \n",
       "1307        May 24th, 2013        Specialty Coffee Association   \n",
       "1308        June 6th, 2018      Instituto HondureÃ±o del CafÃ©   \n",
       "1309        May 24th, 2013       Asociacion Nacional Del CafÃ©   \n",
       "1310      April 28th, 2018      Instituto HondureÃ±o del CafÃ©   \n",
       "\n",
       "                         Certification.Address  \\\n",
       "0     309fcf77415a3661ae83e027f7e5f05dad786e44   \n",
       "1     309fcf77415a3661ae83e027f7e5f05dad786e44   \n",
       "2     36d0d00a3724338ba7937c52a378d085f2172daa   \n",
       "3     309fcf77415a3661ae83e027f7e5f05dad786e44   \n",
       "4     309fcf77415a3661ae83e027f7e5f05dad786e44   \n",
       "...                                        ...   \n",
       "1306  59e396ad6e22a1c22b248f958e1da2bd8af85272   \n",
       "1307  36d0d00a3724338ba7937c52a378d085f2172daa   \n",
       "1308  b4660a57e9f8cc613ae5b8f02bfce8634c763ab4   \n",
       "1309  b1f20fe3a819fd6b2ee0eb8fdc3da256604f1e53   \n",
       "1310  b4660a57e9f8cc613ae5b8f02bfce8634c763ab4   \n",
       "\n",
       "                         Certification.Contact unit_of_measurement  \\\n",
       "0     19fef5a731de2db57d16da10287413f5f99bc2dd                   m   \n",
       "1     19fef5a731de2db57d16da10287413f5f99bc2dd                   m   \n",
       "2     0878a7d4b9d35ddbf0fe2ce69a2062cceb45a660                   m   \n",
       "3     19fef5a731de2db57d16da10287413f5f99bc2dd                   m   \n",
       "4     19fef5a731de2db57d16da10287413f5f99bc2dd                   m   \n",
       "...                                        ...                 ...   \n",
       "1306  0eb4ee5b3f47b20b049548a2fd1e7d4a2b70d0a7                   m   \n",
       "1307  0878a7d4b9d35ddbf0fe2ce69a2062cceb45a660                   m   \n",
       "1308  7f521ca403540f81ec99daec7da19c2788393880                   m   \n",
       "1309  724f04ad10ed31dbb9d260f0dfd221ba48be8a95                  ft   \n",
       "1310  7f521ca403540f81ec99daec7da19c2788393880                   m   \n",
       "\n",
       "     altitude_low_meters altitude_high_meters altitude_mean_meters  \n",
       "0                1950.00              2200.00              2075.00  \n",
       "1                1950.00              2200.00              2075.00  \n",
       "2                1600.00              1800.00              1700.00  \n",
       "3                1800.00              2200.00              2000.00  \n",
       "4                1950.00              2200.00              2075.00  \n",
       "...                  ...                  ...                  ...  \n",
       "1306              900.00               900.00               900.00  \n",
       "1307              350.00               350.00               350.00  \n",
       "1308             1100.00              1100.00              1100.00  \n",
       "1309             1417.32              1417.32              1417.32  \n",
       "1310             1400.00              1400.00              1400.00  \n",
       "\n",
       "[1311 rows x 44 columns]"
      ]
     },
     "execution_count": 39,
     "metadata": {},
     "output_type": "execute_result"
    }
   ],
   "source": [
    "df = pd.read_csv(\"Coffee-modified.csv\")\n",
    "df"
   ]
  },
  {
   "cell_type": "code",
   "execution_count": 40,
   "metadata": {},
   "outputs": [
    {
     "data": {
      "text/html": [
       "<div>\n",
       "<style scoped>\n",
       "    .dataframe tbody tr th:only-of-type {\n",
       "        vertical-align: middle;\n",
       "    }\n",
       "\n",
       "    .dataframe tbody tr th {\n",
       "        vertical-align: top;\n",
       "    }\n",
       "\n",
       "    .dataframe thead th {\n",
       "        text-align: right;\n",
       "    }\n",
       "</style>\n",
       "<table border=\"1\" class=\"dataframe\">\n",
       "  <thead>\n",
       "    <tr style=\"text-align: right;\">\n",
       "      <th></th>\n",
       "      <th>Total.Cup.Points</th>\n",
       "      <th>Species</th>\n",
       "      <th>Country.of.Origin</th>\n",
       "      <th>Processing.Method</th>\n",
       "      <th>Aroma</th>\n",
       "      <th>Flavor</th>\n",
       "      <th>Aftertaste</th>\n",
       "      <th>Acidity</th>\n",
       "      <th>Body</th>\n",
       "      <th>Balance</th>\n",
       "      <th>Uniformity</th>\n",
       "      <th>Moisture</th>\n",
       "      <th>altitude_mean_meters</th>\n",
       "    </tr>\n",
       "  </thead>\n",
       "  <tbody>\n",
       "    <tr>\n",
       "      <th>0</th>\n",
       "      <td>90.58</td>\n",
       "      <td>Arabica</td>\n",
       "      <td>Ethiopia</td>\n",
       "      <td>Washed / Wet</td>\n",
       "      <td>8.67</td>\n",
       "      <td>8.83</td>\n",
       "      <td>8.67</td>\n",
       "      <td>8.75</td>\n",
       "      <td>8.50</td>\n",
       "      <td>8.42</td>\n",
       "      <td>10.00</td>\n",
       "      <td>0.12</td>\n",
       "      <td>2075.00</td>\n",
       "    </tr>\n",
       "    <tr>\n",
       "      <th>1</th>\n",
       "      <td>89.92</td>\n",
       "      <td>Arabica</td>\n",
       "      <td>Ethiopia</td>\n",
       "      <td>Washed / Wet</td>\n",
       "      <td>8.75</td>\n",
       "      <td>8.67</td>\n",
       "      <td>8.50</td>\n",
       "      <td>8.58</td>\n",
       "      <td>8.42</td>\n",
       "      <td>8.42</td>\n",
       "      <td>10.00</td>\n",
       "      <td>0.12</td>\n",
       "      <td>2075.00</td>\n",
       "    </tr>\n",
       "    <tr>\n",
       "      <th>2</th>\n",
       "      <td>89.75</td>\n",
       "      <td>Arabica</td>\n",
       "      <td>Guatemala</td>\n",
       "      <td>NaN</td>\n",
       "      <td>8.42</td>\n",
       "      <td>8.50</td>\n",
       "      <td>8.42</td>\n",
       "      <td>8.42</td>\n",
       "      <td>8.33</td>\n",
       "      <td>8.42</td>\n",
       "      <td>10.00</td>\n",
       "      <td>0.00</td>\n",
       "      <td>1700.00</td>\n",
       "    </tr>\n",
       "    <tr>\n",
       "      <th>3</th>\n",
       "      <td>89.00</td>\n",
       "      <td>Arabica</td>\n",
       "      <td>Ethiopia</td>\n",
       "      <td>Natural / Dry</td>\n",
       "      <td>8.17</td>\n",
       "      <td>8.58</td>\n",
       "      <td>8.42</td>\n",
       "      <td>8.42</td>\n",
       "      <td>8.50</td>\n",
       "      <td>8.25</td>\n",
       "      <td>10.00</td>\n",
       "      <td>0.11</td>\n",
       "      <td>2000.00</td>\n",
       "    </tr>\n",
       "    <tr>\n",
       "      <th>4</th>\n",
       "      <td>88.83</td>\n",
       "      <td>Arabica</td>\n",
       "      <td>Ethiopia</td>\n",
       "      <td>Washed / Wet</td>\n",
       "      <td>8.25</td>\n",
       "      <td>8.50</td>\n",
       "      <td>8.25</td>\n",
       "      <td>8.50</td>\n",
       "      <td>8.42</td>\n",
       "      <td>8.33</td>\n",
       "      <td>10.00</td>\n",
       "      <td>0.12</td>\n",
       "      <td>2075.00</td>\n",
       "    </tr>\n",
       "    <tr>\n",
       "      <th>...</th>\n",
       "      <td>...</td>\n",
       "      <td>...</td>\n",
       "      <td>...</td>\n",
       "      <td>...</td>\n",
       "      <td>...</td>\n",
       "      <td>...</td>\n",
       "      <td>...</td>\n",
       "      <td>...</td>\n",
       "      <td>...</td>\n",
       "      <td>...</td>\n",
       "      <td>...</td>\n",
       "      <td>...</td>\n",
       "      <td>...</td>\n",
       "    </tr>\n",
       "    <tr>\n",
       "      <th>1306</th>\n",
       "      <td>68.33</td>\n",
       "      <td>Arabica</td>\n",
       "      <td>Mexico</td>\n",
       "      <td>Washed / Wet</td>\n",
       "      <td>7.08</td>\n",
       "      <td>6.83</td>\n",
       "      <td>6.25</td>\n",
       "      <td>7.42</td>\n",
       "      <td>7.25</td>\n",
       "      <td>6.75</td>\n",
       "      <td>10.00</td>\n",
       "      <td>0.11</td>\n",
       "      <td>900.00</td>\n",
       "    </tr>\n",
       "    <tr>\n",
       "      <th>1307</th>\n",
       "      <td>67.92</td>\n",
       "      <td>Arabica</td>\n",
       "      <td>Haiti</td>\n",
       "      <td>Natural / Dry</td>\n",
       "      <td>6.75</td>\n",
       "      <td>6.58</td>\n",
       "      <td>6.42</td>\n",
       "      <td>6.67</td>\n",
       "      <td>7.08</td>\n",
       "      <td>6.67</td>\n",
       "      <td>9.33</td>\n",
       "      <td>0.14</td>\n",
       "      <td>350.00</td>\n",
       "    </tr>\n",
       "    <tr>\n",
       "      <th>1308</th>\n",
       "      <td>63.08</td>\n",
       "      <td>Arabica</td>\n",
       "      <td>Nicaragua</td>\n",
       "      <td>Other</td>\n",
       "      <td>7.25</td>\n",
       "      <td>6.58</td>\n",
       "      <td>6.33</td>\n",
       "      <td>6.25</td>\n",
       "      <td>6.42</td>\n",
       "      <td>6.08</td>\n",
       "      <td>6.00</td>\n",
       "      <td>0.13</td>\n",
       "      <td>1100.00</td>\n",
       "    </tr>\n",
       "    <tr>\n",
       "      <th>1309</th>\n",
       "      <td>59.83</td>\n",
       "      <td>Arabica</td>\n",
       "      <td>Guatemala</td>\n",
       "      <td>Washed / Wet</td>\n",
       "      <td>7.50</td>\n",
       "      <td>6.67</td>\n",
       "      <td>6.67</td>\n",
       "      <td>7.67</td>\n",
       "      <td>7.33</td>\n",
       "      <td>6.67</td>\n",
       "      <td>8.00</td>\n",
       "      <td>0.10</td>\n",
       "      <td>1417.32</td>\n",
       "    </tr>\n",
       "    <tr>\n",
       "      <th>1310</th>\n",
       "      <td>0.00</td>\n",
       "      <td>Arabica</td>\n",
       "      <td>Honduras</td>\n",
       "      <td>NaN</td>\n",
       "      <td>0.00</td>\n",
       "      <td>0.00</td>\n",
       "      <td>0.00</td>\n",
       "      <td>0.00</td>\n",
       "      <td>0.00</td>\n",
       "      <td>0.00</td>\n",
       "      <td>0.00</td>\n",
       "      <td>0.12</td>\n",
       "      <td>1400.00</td>\n",
       "    </tr>\n",
       "  </tbody>\n",
       "</table>\n",
       "<p>1311 rows × 13 columns</p>\n",
       "</div>"
      ],
      "text/plain": [
       "      Total.Cup.Points  Species Country.of.Origin Processing.Method  Aroma  \\\n",
       "0                90.58  Arabica          Ethiopia      Washed / Wet   8.67   \n",
       "1                89.92  Arabica          Ethiopia      Washed / Wet   8.75   \n",
       "2                89.75  Arabica         Guatemala               NaN   8.42   \n",
       "3                89.00  Arabica          Ethiopia     Natural / Dry   8.17   \n",
       "4                88.83  Arabica          Ethiopia      Washed / Wet   8.25   \n",
       "...                ...      ...               ...               ...    ...   \n",
       "1306             68.33  Arabica            Mexico      Washed / Wet   7.08   \n",
       "1307             67.92  Arabica             Haiti     Natural / Dry   6.75   \n",
       "1308             63.08  Arabica         Nicaragua             Other   7.25   \n",
       "1309             59.83  Arabica         Guatemala      Washed / Wet   7.50   \n",
       "1310              0.00  Arabica          Honduras               NaN   0.00   \n",
       "\n",
       "      Flavor  Aftertaste  Acidity  Body  Balance  Uniformity  Moisture  \\\n",
       "0       8.83        8.67     8.75  8.50     8.42       10.00      0.12   \n",
       "1       8.67        8.50     8.58  8.42     8.42       10.00      0.12   \n",
       "2       8.50        8.42     8.42  8.33     8.42       10.00      0.00   \n",
       "3       8.58        8.42     8.42  8.50     8.25       10.00      0.11   \n",
       "4       8.50        8.25     8.50  8.42     8.33       10.00      0.12   \n",
       "...      ...         ...      ...   ...      ...         ...       ...   \n",
       "1306    6.83        6.25     7.42  7.25     6.75       10.00      0.11   \n",
       "1307    6.58        6.42     6.67  7.08     6.67        9.33      0.14   \n",
       "1308    6.58        6.33     6.25  6.42     6.08        6.00      0.13   \n",
       "1309    6.67        6.67     7.67  7.33     6.67        8.00      0.10   \n",
       "1310    0.00        0.00     0.00  0.00     0.00        0.00      0.12   \n",
       "\n",
       "      altitude_mean_meters  \n",
       "0                  2075.00  \n",
       "1                  2075.00  \n",
       "2                  1700.00  \n",
       "3                  2000.00  \n",
       "4                  2075.00  \n",
       "...                    ...  \n",
       "1306                900.00  \n",
       "1307                350.00  \n",
       "1308               1100.00  \n",
       "1309               1417.32  \n",
       "1310               1400.00  \n",
       "\n",
       "[1311 rows x 13 columns]"
      ]
     },
     "execution_count": 40,
     "metadata": {},
     "output_type": "execute_result"
    }
   ],
   "source": [
    "df = df[['Total.Cup.Points', 'Species','Country.of.Origin','Processing.Method', 'Aroma', 'Flavor', 'Aftertaste',\n",
    "'Acidity','Body', 'Balance', 'Uniformity', 'Moisture', 'altitude_mean_meters']]\n",
    "df"
   ]
  },
  {
   "cell_type": "code",
   "execution_count": 41,
   "metadata": {},
   "outputs": [
    {
     "data": {
      "text/html": [
       "<div>\n",
       "<style scoped>\n",
       "    .dataframe tbody tr th:only-of-type {\n",
       "        vertical-align: middle;\n",
       "    }\n",
       "\n",
       "    .dataframe tbody tr th {\n",
       "        vertical-align: top;\n",
       "    }\n",
       "\n",
       "    .dataframe thead th {\n",
       "        text-align: right;\n",
       "    }\n",
       "</style>\n",
       "<table border=\"1\" class=\"dataframe\">\n",
       "  <thead>\n",
       "    <tr style=\"text-align: right;\">\n",
       "      <th></th>\n",
       "      <th>Total.Cup.Points</th>\n",
       "      <th>Species</th>\n",
       "      <th>Country.of.Origin</th>\n",
       "      <th>Processing.Method</th>\n",
       "      <th>Aroma</th>\n",
       "      <th>Flavor</th>\n",
       "      <th>Aftertaste</th>\n",
       "      <th>Acidity</th>\n",
       "      <th>Body</th>\n",
       "      <th>Balance</th>\n",
       "      <th>Uniformity</th>\n",
       "      <th>Moisture</th>\n",
       "      <th>altitude_mean_meters</th>\n",
       "    </tr>\n",
       "  </thead>\n",
       "  <tbody>\n",
       "    <tr>\n",
       "      <th>0</th>\n",
       "      <td>90.58</td>\n",
       "      <td>Arabica</td>\n",
       "      <td>Ethiopia</td>\n",
       "      <td>Washed / Wet</td>\n",
       "      <td>8.67</td>\n",
       "      <td>8.83</td>\n",
       "      <td>8.67</td>\n",
       "      <td>8.75</td>\n",
       "      <td>8.50</td>\n",
       "      <td>8.42</td>\n",
       "      <td>10.00</td>\n",
       "      <td>0.12</td>\n",
       "      <td>2075.00</td>\n",
       "    </tr>\n",
       "    <tr>\n",
       "      <th>1</th>\n",
       "      <td>89.92</td>\n",
       "      <td>Arabica</td>\n",
       "      <td>Ethiopia</td>\n",
       "      <td>Washed / Wet</td>\n",
       "      <td>8.75</td>\n",
       "      <td>8.67</td>\n",
       "      <td>8.50</td>\n",
       "      <td>8.58</td>\n",
       "      <td>8.42</td>\n",
       "      <td>8.42</td>\n",
       "      <td>10.00</td>\n",
       "      <td>0.12</td>\n",
       "      <td>2075.00</td>\n",
       "    </tr>\n",
       "    <tr>\n",
       "      <th>3</th>\n",
       "      <td>89.00</td>\n",
       "      <td>Arabica</td>\n",
       "      <td>Ethiopia</td>\n",
       "      <td>Natural / Dry</td>\n",
       "      <td>8.17</td>\n",
       "      <td>8.58</td>\n",
       "      <td>8.42</td>\n",
       "      <td>8.42</td>\n",
       "      <td>8.50</td>\n",
       "      <td>8.25</td>\n",
       "      <td>10.00</td>\n",
       "      <td>0.11</td>\n",
       "      <td>2000.00</td>\n",
       "    </tr>\n",
       "    <tr>\n",
       "      <th>4</th>\n",
       "      <td>88.83</td>\n",
       "      <td>Arabica</td>\n",
       "      <td>Ethiopia</td>\n",
       "      <td>Washed / Wet</td>\n",
       "      <td>8.25</td>\n",
       "      <td>8.50</td>\n",
       "      <td>8.25</td>\n",
       "      <td>8.50</td>\n",
       "      <td>8.42</td>\n",
       "      <td>8.33</td>\n",
       "      <td>10.00</td>\n",
       "      <td>0.12</td>\n",
       "      <td>2075.00</td>\n",
       "    </tr>\n",
       "    <tr>\n",
       "      <th>9</th>\n",
       "      <td>88.25</td>\n",
       "      <td>Arabica</td>\n",
       "      <td>Ethiopia</td>\n",
       "      <td>Natural / Dry</td>\n",
       "      <td>8.08</td>\n",
       "      <td>8.58</td>\n",
       "      <td>8.50</td>\n",
       "      <td>8.50</td>\n",
       "      <td>7.67</td>\n",
       "      <td>8.42</td>\n",
       "      <td>10.00</td>\n",
       "      <td>0.10</td>\n",
       "      <td>1822.50</td>\n",
       "    </tr>\n",
       "    <tr>\n",
       "      <th>...</th>\n",
       "      <td>...</td>\n",
       "      <td>...</td>\n",
       "      <td>...</td>\n",
       "      <td>...</td>\n",
       "      <td>...</td>\n",
       "      <td>...</td>\n",
       "      <td>...</td>\n",
       "      <td>...</td>\n",
       "      <td>...</td>\n",
       "      <td>...</td>\n",
       "      <td>...</td>\n",
       "      <td>...</td>\n",
       "      <td>...</td>\n",
       "    </tr>\n",
       "    <tr>\n",
       "      <th>1305</th>\n",
       "      <td>69.17</td>\n",
       "      <td>Arabica</td>\n",
       "      <td>Honduras</td>\n",
       "      <td>Washed / Wet</td>\n",
       "      <td>7.00</td>\n",
       "      <td>6.33</td>\n",
       "      <td>6.17</td>\n",
       "      <td>6.50</td>\n",
       "      <td>6.67</td>\n",
       "      <td>6.17</td>\n",
       "      <td>8.00</td>\n",
       "      <td>0.10</td>\n",
       "      <td>1450.00</td>\n",
       "    </tr>\n",
       "    <tr>\n",
       "      <th>1306</th>\n",
       "      <td>68.33</td>\n",
       "      <td>Arabica</td>\n",
       "      <td>Mexico</td>\n",
       "      <td>Washed / Wet</td>\n",
       "      <td>7.08</td>\n",
       "      <td>6.83</td>\n",
       "      <td>6.25</td>\n",
       "      <td>7.42</td>\n",
       "      <td>7.25</td>\n",
       "      <td>6.75</td>\n",
       "      <td>10.00</td>\n",
       "      <td>0.11</td>\n",
       "      <td>900.00</td>\n",
       "    </tr>\n",
       "    <tr>\n",
       "      <th>1307</th>\n",
       "      <td>67.92</td>\n",
       "      <td>Arabica</td>\n",
       "      <td>Haiti</td>\n",
       "      <td>Natural / Dry</td>\n",
       "      <td>6.75</td>\n",
       "      <td>6.58</td>\n",
       "      <td>6.42</td>\n",
       "      <td>6.67</td>\n",
       "      <td>7.08</td>\n",
       "      <td>6.67</td>\n",
       "      <td>9.33</td>\n",
       "      <td>0.14</td>\n",
       "      <td>350.00</td>\n",
       "    </tr>\n",
       "    <tr>\n",
       "      <th>1308</th>\n",
       "      <td>63.08</td>\n",
       "      <td>Arabica</td>\n",
       "      <td>Nicaragua</td>\n",
       "      <td>Other</td>\n",
       "      <td>7.25</td>\n",
       "      <td>6.58</td>\n",
       "      <td>6.33</td>\n",
       "      <td>6.25</td>\n",
       "      <td>6.42</td>\n",
       "      <td>6.08</td>\n",
       "      <td>6.00</td>\n",
       "      <td>0.13</td>\n",
       "      <td>1100.00</td>\n",
       "    </tr>\n",
       "    <tr>\n",
       "      <th>1309</th>\n",
       "      <td>59.83</td>\n",
       "      <td>Arabica</td>\n",
       "      <td>Guatemala</td>\n",
       "      <td>Washed / Wet</td>\n",
       "      <td>7.50</td>\n",
       "      <td>6.67</td>\n",
       "      <td>6.67</td>\n",
       "      <td>7.67</td>\n",
       "      <td>7.33</td>\n",
       "      <td>6.67</td>\n",
       "      <td>8.00</td>\n",
       "      <td>0.10</td>\n",
       "      <td>1417.32</td>\n",
       "    </tr>\n",
       "  </tbody>\n",
       "</table>\n",
       "<p>1003 rows × 13 columns</p>\n",
       "</div>"
      ],
      "text/plain": [
       "      Total.Cup.Points  Species Country.of.Origin Processing.Method  Aroma  \\\n",
       "0                90.58  Arabica          Ethiopia      Washed / Wet   8.67   \n",
       "1                89.92  Arabica          Ethiopia      Washed / Wet   8.75   \n",
       "3                89.00  Arabica          Ethiopia     Natural / Dry   8.17   \n",
       "4                88.83  Arabica          Ethiopia      Washed / Wet   8.25   \n",
       "9                88.25  Arabica          Ethiopia     Natural / Dry   8.08   \n",
       "...                ...      ...               ...               ...    ...   \n",
       "1305             69.17  Arabica          Honduras      Washed / Wet   7.00   \n",
       "1306             68.33  Arabica            Mexico      Washed / Wet   7.08   \n",
       "1307             67.92  Arabica             Haiti     Natural / Dry   6.75   \n",
       "1308             63.08  Arabica         Nicaragua             Other   7.25   \n",
       "1309             59.83  Arabica         Guatemala      Washed / Wet   7.50   \n",
       "\n",
       "      Flavor  Aftertaste  Acidity  Body  Balance  Uniformity  Moisture  \\\n",
       "0       8.83        8.67     8.75  8.50     8.42       10.00      0.12   \n",
       "1       8.67        8.50     8.58  8.42     8.42       10.00      0.12   \n",
       "3       8.58        8.42     8.42  8.50     8.25       10.00      0.11   \n",
       "4       8.50        8.25     8.50  8.42     8.33       10.00      0.12   \n",
       "9       8.58        8.50     8.50  7.67     8.42       10.00      0.10   \n",
       "...      ...         ...      ...   ...      ...         ...       ...   \n",
       "1305    6.33        6.17     6.50  6.67     6.17        8.00      0.10   \n",
       "1306    6.83        6.25     7.42  7.25     6.75       10.00      0.11   \n",
       "1307    6.58        6.42     6.67  7.08     6.67        9.33      0.14   \n",
       "1308    6.58        6.33     6.25  6.42     6.08        6.00      0.13   \n",
       "1309    6.67        6.67     7.67  7.33     6.67        8.00      0.10   \n",
       "\n",
       "      altitude_mean_meters  \n",
       "0                  2075.00  \n",
       "1                  2075.00  \n",
       "3                  2000.00  \n",
       "4                  2075.00  \n",
       "9                  1822.50  \n",
       "...                    ...  \n",
       "1305               1450.00  \n",
       "1306                900.00  \n",
       "1307                350.00  \n",
       "1308               1100.00  \n",
       "1309               1417.32  \n",
       "\n",
       "[1003 rows x 13 columns]"
      ]
     },
     "execution_count": 41,
     "metadata": {},
     "output_type": "execute_result"
    }
   ],
   "source": [
    "dataset = df.dropna()\n",
    "dataset"
   ]
  },
  {
   "cell_type": "code",
   "execution_count": 42,
   "metadata": {},
   "outputs": [
    {
     "data": {
      "text/html": [
       "<div>\n",
       "<style scoped>\n",
       "    .dataframe tbody tr th:only-of-type {\n",
       "        vertical-align: middle;\n",
       "    }\n",
       "\n",
       "    .dataframe tbody tr th {\n",
       "        vertical-align: top;\n",
       "    }\n",
       "\n",
       "    .dataframe thead th {\n",
       "        text-align: right;\n",
       "    }\n",
       "</style>\n",
       "<table border=\"1\" class=\"dataframe\">\n",
       "  <thead>\n",
       "    <tr style=\"text-align: right;\">\n",
       "      <th></th>\n",
       "      <th>Total.Cup.Points</th>\n",
       "      <th>Aroma</th>\n",
       "      <th>Flavor</th>\n",
       "      <th>Aftertaste</th>\n",
       "      <th>Acidity</th>\n",
       "      <th>Body</th>\n",
       "      <th>Balance</th>\n",
       "      <th>Uniformity</th>\n",
       "      <th>Moisture</th>\n",
       "      <th>altitude_mean_meters</th>\n",
       "    </tr>\n",
       "  </thead>\n",
       "  <tbody>\n",
       "    <tr>\n",
       "      <th>count</th>\n",
       "      <td>1003.000000</td>\n",
       "      <td>1003.000000</td>\n",
       "      <td>1003.000000</td>\n",
       "      <td>1003.000000</td>\n",
       "      <td>1003.000000</td>\n",
       "      <td>1003.000000</td>\n",
       "      <td>1003.000000</td>\n",
       "      <td>1003.000000</td>\n",
       "      <td>1003.000000</td>\n",
       "      <td>1003.000000</td>\n",
       "    </tr>\n",
       "    <tr>\n",
       "      <th>mean</th>\n",
       "      <td>82.126949</td>\n",
       "      <td>7.567488</td>\n",
       "      <td>7.513779</td>\n",
       "      <td>7.385633</td>\n",
       "      <td>7.526221</td>\n",
       "      <td>7.504287</td>\n",
       "      <td>7.499302</td>\n",
       "      <td>9.870219</td>\n",
       "      <td>0.094985</td>\n",
       "      <td>1816.792017</td>\n",
       "    </tr>\n",
       "    <tr>\n",
       "      <th>std</th>\n",
       "      <td>2.631610</td>\n",
       "      <td>0.301361</td>\n",
       "      <td>0.324487</td>\n",
       "      <td>0.332735</td>\n",
       "      <td>0.307827</td>\n",
       "      <td>0.272824</td>\n",
       "      <td>0.340801</td>\n",
       "      <td>0.445371</td>\n",
       "      <td>0.043468</td>\n",
       "      <td>9112.472930</td>\n",
       "    </tr>\n",
       "    <tr>\n",
       "      <th>min</th>\n",
       "      <td>59.830000</td>\n",
       "      <td>5.080000</td>\n",
       "      <td>6.170000</td>\n",
       "      <td>6.170000</td>\n",
       "      <td>5.250000</td>\n",
       "      <td>6.330000</td>\n",
       "      <td>6.080000</td>\n",
       "      <td>6.000000</td>\n",
       "      <td>0.000000</td>\n",
       "      <td>1.000000</td>\n",
       "    </tr>\n",
       "    <tr>\n",
       "      <th>25%</th>\n",
       "      <td>81.170000</td>\n",
       "      <td>7.420000</td>\n",
       "      <td>7.330000</td>\n",
       "      <td>7.170000</td>\n",
       "      <td>7.330000</td>\n",
       "      <td>7.330000</td>\n",
       "      <td>7.330000</td>\n",
       "      <td>10.000000</td>\n",
       "      <td>0.100000</td>\n",
       "      <td>1100.000000</td>\n",
       "    </tr>\n",
       "    <tr>\n",
       "      <th>50%</th>\n",
       "      <td>82.420000</td>\n",
       "      <td>7.580000</td>\n",
       "      <td>7.500000</td>\n",
       "      <td>7.420000</td>\n",
       "      <td>7.500000</td>\n",
       "      <td>7.500000</td>\n",
       "      <td>7.500000</td>\n",
       "      <td>10.000000</td>\n",
       "      <td>0.110000</td>\n",
       "      <td>1310.640000</td>\n",
       "    </tr>\n",
       "    <tr>\n",
       "      <th>75%</th>\n",
       "      <td>83.580000</td>\n",
       "      <td>7.750000</td>\n",
       "      <td>7.670000</td>\n",
       "      <td>7.580000</td>\n",
       "      <td>7.670000</td>\n",
       "      <td>7.670000</td>\n",
       "      <td>7.670000</td>\n",
       "      <td>10.000000</td>\n",
       "      <td>0.120000</td>\n",
       "      <td>1600.000000</td>\n",
       "    </tr>\n",
       "    <tr>\n",
       "      <th>max</th>\n",
       "      <td>90.580000</td>\n",
       "      <td>8.750000</td>\n",
       "      <td>8.830000</td>\n",
       "      <td>8.670000</td>\n",
       "      <td>8.750000</td>\n",
       "      <td>8.500000</td>\n",
       "      <td>8.580000</td>\n",
       "      <td>10.000000</td>\n",
       "      <td>0.170000</td>\n",
       "      <td>190164.000000</td>\n",
       "    </tr>\n",
       "  </tbody>\n",
       "</table>\n",
       "</div>"
      ],
      "text/plain": [
       "       Total.Cup.Points        Aroma       Flavor   Aftertaste      Acidity  \\\n",
       "count       1003.000000  1003.000000  1003.000000  1003.000000  1003.000000   \n",
       "mean          82.126949     7.567488     7.513779     7.385633     7.526221   \n",
       "std            2.631610     0.301361     0.324487     0.332735     0.307827   \n",
       "min           59.830000     5.080000     6.170000     6.170000     5.250000   \n",
       "25%           81.170000     7.420000     7.330000     7.170000     7.330000   \n",
       "50%           82.420000     7.580000     7.500000     7.420000     7.500000   \n",
       "75%           83.580000     7.750000     7.670000     7.580000     7.670000   \n",
       "max           90.580000     8.750000     8.830000     8.670000     8.750000   \n",
       "\n",
       "              Body      Balance   Uniformity     Moisture  \\\n",
       "count  1003.000000  1003.000000  1003.000000  1003.000000   \n",
       "mean      7.504287     7.499302     9.870219     0.094985   \n",
       "std       0.272824     0.340801     0.445371     0.043468   \n",
       "min       6.330000     6.080000     6.000000     0.000000   \n",
       "25%       7.330000     7.330000    10.000000     0.100000   \n",
       "50%       7.500000     7.500000    10.000000     0.110000   \n",
       "75%       7.670000     7.670000    10.000000     0.120000   \n",
       "max       8.500000     8.580000    10.000000     0.170000   \n",
       "\n",
       "       altitude_mean_meters  \n",
       "count           1003.000000  \n",
       "mean            1816.792017  \n",
       "std             9112.472930  \n",
       "min                1.000000  \n",
       "25%             1100.000000  \n",
       "50%             1310.640000  \n",
       "75%             1600.000000  \n",
       "max           190164.000000  "
      ]
     },
     "execution_count": 42,
     "metadata": {},
     "output_type": "execute_result"
    }
   ],
   "source": [
    "dataset.describe()"
   ]
  },
  {
   "cell_type": "code",
   "execution_count": 43,
   "metadata": {},
   "outputs": [
    {
     "data": {
      "text/html": [
       "<div>\n",
       "<style scoped>\n",
       "    .dataframe tbody tr th:only-of-type {\n",
       "        vertical-align: middle;\n",
       "    }\n",
       "\n",
       "    .dataframe tbody tr th {\n",
       "        vertical-align: top;\n",
       "    }\n",
       "\n",
       "    .dataframe thead th {\n",
       "        text-align: right;\n",
       "    }\n",
       "</style>\n",
       "<table border=\"1\" class=\"dataframe\">\n",
       "  <thead>\n",
       "    <tr style=\"text-align: right;\">\n",
       "      <th></th>\n",
       "      <th>Total.Cup.Points</th>\n",
       "    </tr>\n",
       "  </thead>\n",
       "  <tbody>\n",
       "    <tr>\n",
       "      <th>0</th>\n",
       "      <td>90.58</td>\n",
       "    </tr>\n",
       "    <tr>\n",
       "      <th>1</th>\n",
       "      <td>89.92</td>\n",
       "    </tr>\n",
       "    <tr>\n",
       "      <th>3</th>\n",
       "      <td>89.00</td>\n",
       "    </tr>\n",
       "    <tr>\n",
       "      <th>4</th>\n",
       "      <td>88.83</td>\n",
       "    </tr>\n",
       "    <tr>\n",
       "      <th>9</th>\n",
       "      <td>88.25</td>\n",
       "    </tr>\n",
       "    <tr>\n",
       "      <th>...</th>\n",
       "      <td>...</td>\n",
       "    </tr>\n",
       "    <tr>\n",
       "      <th>1305</th>\n",
       "      <td>69.17</td>\n",
       "    </tr>\n",
       "    <tr>\n",
       "      <th>1306</th>\n",
       "      <td>68.33</td>\n",
       "    </tr>\n",
       "    <tr>\n",
       "      <th>1307</th>\n",
       "      <td>67.92</td>\n",
       "    </tr>\n",
       "    <tr>\n",
       "      <th>1308</th>\n",
       "      <td>63.08</td>\n",
       "    </tr>\n",
       "    <tr>\n",
       "      <th>1309</th>\n",
       "      <td>59.83</td>\n",
       "    </tr>\n",
       "  </tbody>\n",
       "</table>\n",
       "<p>1003 rows × 1 columns</p>\n",
       "</div>"
      ],
      "text/plain": [
       "      Total.Cup.Points\n",
       "0                90.58\n",
       "1                89.92\n",
       "3                89.00\n",
       "4                88.83\n",
       "9                88.25\n",
       "...                ...\n",
       "1305             69.17\n",
       "1306             68.33\n",
       "1307             67.92\n",
       "1308             63.08\n",
       "1309             59.83\n",
       "\n",
       "[1003 rows x 1 columns]"
      ]
     },
     "execution_count": 43,
     "metadata": {},
     "output_type": "execute_result"
    }
   ],
   "source": [
    "Y = dataset[['Total.Cup.Points']]\n",
    "Y"
   ]
  },
  {
   "cell_type": "code",
   "execution_count": 44,
   "metadata": {},
   "outputs": [
    {
     "data": {
      "text/html": [
       "<div>\n",
       "<style scoped>\n",
       "    .dataframe tbody tr th:only-of-type {\n",
       "        vertical-align: middle;\n",
       "    }\n",
       "\n",
       "    .dataframe tbody tr th {\n",
       "        vertical-align: top;\n",
       "    }\n",
       "\n",
       "    .dataframe thead th {\n",
       "        text-align: right;\n",
       "    }\n",
       "</style>\n",
       "<table border=\"1\" class=\"dataframe\">\n",
       "  <thead>\n",
       "    <tr style=\"text-align: right;\">\n",
       "      <th></th>\n",
       "      <th>Species</th>\n",
       "      <th>Country.of.Origin</th>\n",
       "      <th>Processing.Method</th>\n",
       "      <th>Aroma</th>\n",
       "      <th>Flavor</th>\n",
       "      <th>Aftertaste</th>\n",
       "      <th>Acidity</th>\n",
       "      <th>Body</th>\n",
       "      <th>Balance</th>\n",
       "      <th>Uniformity</th>\n",
       "      <th>Moisture</th>\n",
       "      <th>altitude_mean_meters</th>\n",
       "    </tr>\n",
       "  </thead>\n",
       "  <tbody>\n",
       "    <tr>\n",
       "      <th>0</th>\n",
       "      <td>Arabica</td>\n",
       "      <td>Ethiopia</td>\n",
       "      <td>Washed / Wet</td>\n",
       "      <td>8.67</td>\n",
       "      <td>8.83</td>\n",
       "      <td>8.67</td>\n",
       "      <td>8.75</td>\n",
       "      <td>8.50</td>\n",
       "      <td>8.42</td>\n",
       "      <td>10.00</td>\n",
       "      <td>0.12</td>\n",
       "      <td>2075.00</td>\n",
       "    </tr>\n",
       "    <tr>\n",
       "      <th>1</th>\n",
       "      <td>Arabica</td>\n",
       "      <td>Ethiopia</td>\n",
       "      <td>Washed / Wet</td>\n",
       "      <td>8.75</td>\n",
       "      <td>8.67</td>\n",
       "      <td>8.50</td>\n",
       "      <td>8.58</td>\n",
       "      <td>8.42</td>\n",
       "      <td>8.42</td>\n",
       "      <td>10.00</td>\n",
       "      <td>0.12</td>\n",
       "      <td>2075.00</td>\n",
       "    </tr>\n",
       "    <tr>\n",
       "      <th>3</th>\n",
       "      <td>Arabica</td>\n",
       "      <td>Ethiopia</td>\n",
       "      <td>Natural / Dry</td>\n",
       "      <td>8.17</td>\n",
       "      <td>8.58</td>\n",
       "      <td>8.42</td>\n",
       "      <td>8.42</td>\n",
       "      <td>8.50</td>\n",
       "      <td>8.25</td>\n",
       "      <td>10.00</td>\n",
       "      <td>0.11</td>\n",
       "      <td>2000.00</td>\n",
       "    </tr>\n",
       "    <tr>\n",
       "      <th>4</th>\n",
       "      <td>Arabica</td>\n",
       "      <td>Ethiopia</td>\n",
       "      <td>Washed / Wet</td>\n",
       "      <td>8.25</td>\n",
       "      <td>8.50</td>\n",
       "      <td>8.25</td>\n",
       "      <td>8.50</td>\n",
       "      <td>8.42</td>\n",
       "      <td>8.33</td>\n",
       "      <td>10.00</td>\n",
       "      <td>0.12</td>\n",
       "      <td>2075.00</td>\n",
       "    </tr>\n",
       "    <tr>\n",
       "      <th>9</th>\n",
       "      <td>Arabica</td>\n",
       "      <td>Ethiopia</td>\n",
       "      <td>Natural / Dry</td>\n",
       "      <td>8.08</td>\n",
       "      <td>8.58</td>\n",
       "      <td>8.50</td>\n",
       "      <td>8.50</td>\n",
       "      <td>7.67</td>\n",
       "      <td>8.42</td>\n",
       "      <td>10.00</td>\n",
       "      <td>0.10</td>\n",
       "      <td>1822.50</td>\n",
       "    </tr>\n",
       "    <tr>\n",
       "      <th>...</th>\n",
       "      <td>...</td>\n",
       "      <td>...</td>\n",
       "      <td>...</td>\n",
       "      <td>...</td>\n",
       "      <td>...</td>\n",
       "      <td>...</td>\n",
       "      <td>...</td>\n",
       "      <td>...</td>\n",
       "      <td>...</td>\n",
       "      <td>...</td>\n",
       "      <td>...</td>\n",
       "      <td>...</td>\n",
       "    </tr>\n",
       "    <tr>\n",
       "      <th>1305</th>\n",
       "      <td>Arabica</td>\n",
       "      <td>Honduras</td>\n",
       "      <td>Washed / Wet</td>\n",
       "      <td>7.00</td>\n",
       "      <td>6.33</td>\n",
       "      <td>6.17</td>\n",
       "      <td>6.50</td>\n",
       "      <td>6.67</td>\n",
       "      <td>6.17</td>\n",
       "      <td>8.00</td>\n",
       "      <td>0.10</td>\n",
       "      <td>1450.00</td>\n",
       "    </tr>\n",
       "    <tr>\n",
       "      <th>1306</th>\n",
       "      <td>Arabica</td>\n",
       "      <td>Mexico</td>\n",
       "      <td>Washed / Wet</td>\n",
       "      <td>7.08</td>\n",
       "      <td>6.83</td>\n",
       "      <td>6.25</td>\n",
       "      <td>7.42</td>\n",
       "      <td>7.25</td>\n",
       "      <td>6.75</td>\n",
       "      <td>10.00</td>\n",
       "      <td>0.11</td>\n",
       "      <td>900.00</td>\n",
       "    </tr>\n",
       "    <tr>\n",
       "      <th>1307</th>\n",
       "      <td>Arabica</td>\n",
       "      <td>Haiti</td>\n",
       "      <td>Natural / Dry</td>\n",
       "      <td>6.75</td>\n",
       "      <td>6.58</td>\n",
       "      <td>6.42</td>\n",
       "      <td>6.67</td>\n",
       "      <td>7.08</td>\n",
       "      <td>6.67</td>\n",
       "      <td>9.33</td>\n",
       "      <td>0.14</td>\n",
       "      <td>350.00</td>\n",
       "    </tr>\n",
       "    <tr>\n",
       "      <th>1308</th>\n",
       "      <td>Arabica</td>\n",
       "      <td>Nicaragua</td>\n",
       "      <td>Other</td>\n",
       "      <td>7.25</td>\n",
       "      <td>6.58</td>\n",
       "      <td>6.33</td>\n",
       "      <td>6.25</td>\n",
       "      <td>6.42</td>\n",
       "      <td>6.08</td>\n",
       "      <td>6.00</td>\n",
       "      <td>0.13</td>\n",
       "      <td>1100.00</td>\n",
       "    </tr>\n",
       "    <tr>\n",
       "      <th>1309</th>\n",
       "      <td>Arabica</td>\n",
       "      <td>Guatemala</td>\n",
       "      <td>Washed / Wet</td>\n",
       "      <td>7.50</td>\n",
       "      <td>6.67</td>\n",
       "      <td>6.67</td>\n",
       "      <td>7.67</td>\n",
       "      <td>7.33</td>\n",
       "      <td>6.67</td>\n",
       "      <td>8.00</td>\n",
       "      <td>0.10</td>\n",
       "      <td>1417.32</td>\n",
       "    </tr>\n",
       "  </tbody>\n",
       "</table>\n",
       "<p>1003 rows × 12 columns</p>\n",
       "</div>"
      ],
      "text/plain": [
       "      Species Country.of.Origin Processing.Method  Aroma  Flavor  Aftertaste  \\\n",
       "0     Arabica          Ethiopia      Washed / Wet   8.67    8.83        8.67   \n",
       "1     Arabica          Ethiopia      Washed / Wet   8.75    8.67        8.50   \n",
       "3     Arabica          Ethiopia     Natural / Dry   8.17    8.58        8.42   \n",
       "4     Arabica          Ethiopia      Washed / Wet   8.25    8.50        8.25   \n",
       "9     Arabica          Ethiopia     Natural / Dry   8.08    8.58        8.50   \n",
       "...       ...               ...               ...    ...     ...         ...   \n",
       "1305  Arabica          Honduras      Washed / Wet   7.00    6.33        6.17   \n",
       "1306  Arabica            Mexico      Washed / Wet   7.08    6.83        6.25   \n",
       "1307  Arabica             Haiti     Natural / Dry   6.75    6.58        6.42   \n",
       "1308  Arabica         Nicaragua             Other   7.25    6.58        6.33   \n",
       "1309  Arabica         Guatemala      Washed / Wet   7.50    6.67        6.67   \n",
       "\n",
       "      Acidity  Body  Balance  Uniformity  Moisture  altitude_mean_meters  \n",
       "0        8.75  8.50     8.42       10.00      0.12               2075.00  \n",
       "1        8.58  8.42     8.42       10.00      0.12               2075.00  \n",
       "3        8.42  8.50     8.25       10.00      0.11               2000.00  \n",
       "4        8.50  8.42     8.33       10.00      0.12               2075.00  \n",
       "9        8.50  7.67     8.42       10.00      0.10               1822.50  \n",
       "...       ...   ...      ...         ...       ...                   ...  \n",
       "1305     6.50  6.67     6.17        8.00      0.10               1450.00  \n",
       "1306     7.42  7.25     6.75       10.00      0.11                900.00  \n",
       "1307     6.67  7.08     6.67        9.33      0.14                350.00  \n",
       "1308     6.25  6.42     6.08        6.00      0.13               1100.00  \n",
       "1309     7.67  7.33     6.67        8.00      0.10               1417.32  \n",
       "\n",
       "[1003 rows x 12 columns]"
      ]
     },
     "execution_count": 44,
     "metadata": {},
     "output_type": "execute_result"
    }
   ],
   "source": [
    "X = dataset.iloc[:,1:13]\n",
    "X"
   ]
  },
  {
   "cell_type": "markdown",
   "metadata": {},
   "source": [
    "## (b) Data Preparation (prepare Y)"
   ]
  },
  {
   "cell_type": "code",
   "execution_count": 45,
   "metadata": {},
   "outputs": [
    {
     "data": {
      "text/plain": [
       "array([83.58, 84.58])"
      ]
     },
     "execution_count": 45,
     "metadata": {},
     "output_type": "execute_result"
    }
   ],
   "source": [
    "rating_pctile = np.percentile( Y, [75, 90])\n",
    "rating_pctile"
   ]
  },
  {
   "cell_type": "code",
   "execution_count": 46,
   "metadata": {},
   "outputs": [
    {
     "data": {
      "text/plain": [
       "0       90.58\n",
       "1       89.92\n",
       "3       89.00\n",
       "4       88.83\n",
       "9       88.25\n",
       "        ...  \n",
       "1305    69.17\n",
       "1306    68.33\n",
       "1307    67.92\n",
       "1308    63.08\n",
       "1309    59.83\n",
       "Name: Total.Cup.Points, Length: 1003, dtype: float64"
      ]
     },
     "execution_count": 46,
     "metadata": {},
     "output_type": "execute_result"
    }
   ],
   "source": [
    "# data ที่ใช้ไม่ใช่ dataframe ไม่งั้นเวลาเข้า loop จะเป็น str\n",
    "Y_dataset = Y['Total.Cup.Points']\n",
    "Y_dataset"
   ]
  },
  {
   "cell_type": "code",
   "execution_count": 47,
   "metadata": {},
   "outputs": [],
   "source": [
    "Y_list = []\n",
    "grade1 = 0\n",
    "grade2 = 0\n",
    "grade3 = 0\n",
    "for i in Y_dataset:\n",
    "    if (i < 83.58): \n",
    "        Bean_grade = 1\n",
    "        Y_list.append(Bean_grade)\n",
    "        grade1=grade1+1\n",
    "    if (83.58 <= i < 84.58): \n",
    "        Bean_grade = 2\n",
    "        Y_list.append(Bean_grade)\n",
    "        grade2=grade2+1 \n",
    "    if (i >= 84.58): \n",
    "        Bean_grade = 3\n",
    "        Y_list.append(Bean_grade)\n",
    "        grade3=grade3+1\n",
    "\n",
    "figdata = pd.DataFrame([[1,grade1],[2,grade2],[3,grade3]],columns = [\"Bean_grade\",\"NSamples\"])"
   ]
  },
  {
   "cell_type": "code",
   "execution_count": 55,
   "metadata": {},
   "outputs": [
    {
     "data": {
      "text/html": [
       "<div>\n",
       "<style scoped>\n",
       "    .dataframe tbody tr th:only-of-type {\n",
       "        vertical-align: middle;\n",
       "    }\n",
       "\n",
       "    .dataframe tbody tr th {\n",
       "        vertical-align: top;\n",
       "    }\n",
       "\n",
       "    .dataframe thead th {\n",
       "        text-align: right;\n",
       "    }\n",
       "</style>\n",
       "<table border=\"1\" class=\"dataframe\">\n",
       "  <thead>\n",
       "    <tr style=\"text-align: right;\">\n",
       "      <th></th>\n",
       "      <th>Bean_grade</th>\n",
       "      <th>NSamples</th>\n",
       "    </tr>\n",
       "  </thead>\n",
       "  <tbody>\n",
       "    <tr>\n",
       "      <th>0</th>\n",
       "      <td>1</td>\n",
       "      <td>746</td>\n",
       "    </tr>\n",
       "    <tr>\n",
       "      <th>1</th>\n",
       "      <td>2</td>\n",
       "      <td>152</td>\n",
       "    </tr>\n",
       "    <tr>\n",
       "      <th>2</th>\n",
       "      <td>3</td>\n",
       "      <td>105</td>\n",
       "    </tr>\n",
       "  </tbody>\n",
       "</table>\n",
       "</div>"
      ],
      "text/plain": [
       "   Bean_grade  NSamples\n",
       "0           1       746\n",
       "1           2       152\n",
       "2           3       105"
      ]
     },
     "execution_count": 55,
     "metadata": {},
     "output_type": "execute_result"
    }
   ],
   "source": [
    "figdata"
   ]
  },
  {
   "cell_type": "code",
   "execution_count": 48,
   "metadata": {},
   "outputs": [
    {
     "data": {
      "application/vnd.plotly.v1+json": {
       "config": {
        "plotlyServerURL": "https://plot.ly"
       },
       "data": [
        {
         "alignmentgroup": "True",
         "hovertemplate": "Bean_grade=%{x}<br>NSamples=%{marker.color}<extra></extra>",
         "legendgroup": "",
         "marker": {
          "color": [
           746,
           152,
           105
          ],
          "coloraxis": "coloraxis",
          "pattern": {
           "shape": ""
          }
         },
         "name": "",
         "offsetgroup": "",
         "orientation": "v",
         "showlegend": false,
         "textposition": "auto",
         "type": "bar",
         "x": [
          1,
          2,
          3
         ],
         "xaxis": "x",
         "y": [
          746,
          152,
          105
         ],
         "yaxis": "y"
        }
       ],
       "layout": {
        "barmode": "relative",
        "coloraxis": {
         "colorbar": {
          "title": {
           "text": "NSamples"
          }
         },
         "colorscale": [
          [
           0,
           "#0d0887"
          ],
          [
           0.1111111111111111,
           "#46039f"
          ],
          [
           0.2222222222222222,
           "#7201a8"
          ],
          [
           0.3333333333333333,
           "#9c179e"
          ],
          [
           0.4444444444444444,
           "#bd3786"
          ],
          [
           0.5555555555555556,
           "#d8576b"
          ],
          [
           0.6666666666666666,
           "#ed7953"
          ],
          [
           0.7777777777777778,
           "#fb9f3a"
          ],
          [
           0.8888888888888888,
           "#fdca26"
          ],
          [
           1,
           "#f0f921"
          ]
         ]
        },
        "legend": {
         "tracegroupgap": 0
        },
        "margin": {
         "t": 60
        },
        "template": {
         "data": {
          "bar": [
           {
            "error_x": {
             "color": "#2a3f5f"
            },
            "error_y": {
             "color": "#2a3f5f"
            },
            "marker": {
             "line": {
              "color": "#E5ECF6",
              "width": 0.5
             },
             "pattern": {
              "fillmode": "overlay",
              "size": 10,
              "solidity": 0.2
             }
            },
            "type": "bar"
           }
          ],
          "barpolar": [
           {
            "marker": {
             "line": {
              "color": "#E5ECF6",
              "width": 0.5
             },
             "pattern": {
              "fillmode": "overlay",
              "size": 10,
              "solidity": 0.2
             }
            },
            "type": "barpolar"
           }
          ],
          "carpet": [
           {
            "aaxis": {
             "endlinecolor": "#2a3f5f",
             "gridcolor": "white",
             "linecolor": "white",
             "minorgridcolor": "white",
             "startlinecolor": "#2a3f5f"
            },
            "baxis": {
             "endlinecolor": "#2a3f5f",
             "gridcolor": "white",
             "linecolor": "white",
             "minorgridcolor": "white",
             "startlinecolor": "#2a3f5f"
            },
            "type": "carpet"
           }
          ],
          "choropleth": [
           {
            "colorbar": {
             "outlinewidth": 0,
             "ticks": ""
            },
            "type": "choropleth"
           }
          ],
          "contour": [
           {
            "colorbar": {
             "outlinewidth": 0,
             "ticks": ""
            },
            "colorscale": [
             [
              0,
              "#0d0887"
             ],
             [
              0.1111111111111111,
              "#46039f"
             ],
             [
              0.2222222222222222,
              "#7201a8"
             ],
             [
              0.3333333333333333,
              "#9c179e"
             ],
             [
              0.4444444444444444,
              "#bd3786"
             ],
             [
              0.5555555555555556,
              "#d8576b"
             ],
             [
              0.6666666666666666,
              "#ed7953"
             ],
             [
              0.7777777777777778,
              "#fb9f3a"
             ],
             [
              0.8888888888888888,
              "#fdca26"
             ],
             [
              1,
              "#f0f921"
             ]
            ],
            "type": "contour"
           }
          ],
          "contourcarpet": [
           {
            "colorbar": {
             "outlinewidth": 0,
             "ticks": ""
            },
            "type": "contourcarpet"
           }
          ],
          "heatmap": [
           {
            "colorbar": {
             "outlinewidth": 0,
             "ticks": ""
            },
            "colorscale": [
             [
              0,
              "#0d0887"
             ],
             [
              0.1111111111111111,
              "#46039f"
             ],
             [
              0.2222222222222222,
              "#7201a8"
             ],
             [
              0.3333333333333333,
              "#9c179e"
             ],
             [
              0.4444444444444444,
              "#bd3786"
             ],
             [
              0.5555555555555556,
              "#d8576b"
             ],
             [
              0.6666666666666666,
              "#ed7953"
             ],
             [
              0.7777777777777778,
              "#fb9f3a"
             ],
             [
              0.8888888888888888,
              "#fdca26"
             ],
             [
              1,
              "#f0f921"
             ]
            ],
            "type": "heatmap"
           }
          ],
          "heatmapgl": [
           {
            "colorbar": {
             "outlinewidth": 0,
             "ticks": ""
            },
            "colorscale": [
             [
              0,
              "#0d0887"
             ],
             [
              0.1111111111111111,
              "#46039f"
             ],
             [
              0.2222222222222222,
              "#7201a8"
             ],
             [
              0.3333333333333333,
              "#9c179e"
             ],
             [
              0.4444444444444444,
              "#bd3786"
             ],
             [
              0.5555555555555556,
              "#d8576b"
             ],
             [
              0.6666666666666666,
              "#ed7953"
             ],
             [
              0.7777777777777778,
              "#fb9f3a"
             ],
             [
              0.8888888888888888,
              "#fdca26"
             ],
             [
              1,
              "#f0f921"
             ]
            ],
            "type": "heatmapgl"
           }
          ],
          "histogram": [
           {
            "marker": {
             "pattern": {
              "fillmode": "overlay",
              "size": 10,
              "solidity": 0.2
             }
            },
            "type": "histogram"
           }
          ],
          "histogram2d": [
           {
            "colorbar": {
             "outlinewidth": 0,
             "ticks": ""
            },
            "colorscale": [
             [
              0,
              "#0d0887"
             ],
             [
              0.1111111111111111,
              "#46039f"
             ],
             [
              0.2222222222222222,
              "#7201a8"
             ],
             [
              0.3333333333333333,
              "#9c179e"
             ],
             [
              0.4444444444444444,
              "#bd3786"
             ],
             [
              0.5555555555555556,
              "#d8576b"
             ],
             [
              0.6666666666666666,
              "#ed7953"
             ],
             [
              0.7777777777777778,
              "#fb9f3a"
             ],
             [
              0.8888888888888888,
              "#fdca26"
             ],
             [
              1,
              "#f0f921"
             ]
            ],
            "type": "histogram2d"
           }
          ],
          "histogram2dcontour": [
           {
            "colorbar": {
             "outlinewidth": 0,
             "ticks": ""
            },
            "colorscale": [
             [
              0,
              "#0d0887"
             ],
             [
              0.1111111111111111,
              "#46039f"
             ],
             [
              0.2222222222222222,
              "#7201a8"
             ],
             [
              0.3333333333333333,
              "#9c179e"
             ],
             [
              0.4444444444444444,
              "#bd3786"
             ],
             [
              0.5555555555555556,
              "#d8576b"
             ],
             [
              0.6666666666666666,
              "#ed7953"
             ],
             [
              0.7777777777777778,
              "#fb9f3a"
             ],
             [
              0.8888888888888888,
              "#fdca26"
             ],
             [
              1,
              "#f0f921"
             ]
            ],
            "type": "histogram2dcontour"
           }
          ],
          "mesh3d": [
           {
            "colorbar": {
             "outlinewidth": 0,
             "ticks": ""
            },
            "type": "mesh3d"
           }
          ],
          "parcoords": [
           {
            "line": {
             "colorbar": {
              "outlinewidth": 0,
              "ticks": ""
             }
            },
            "type": "parcoords"
           }
          ],
          "pie": [
           {
            "automargin": true,
            "type": "pie"
           }
          ],
          "scatter": [
           {
            "fillpattern": {
             "fillmode": "overlay",
             "size": 10,
             "solidity": 0.2
            },
            "type": "scatter"
           }
          ],
          "scatter3d": [
           {
            "line": {
             "colorbar": {
              "outlinewidth": 0,
              "ticks": ""
             }
            },
            "marker": {
             "colorbar": {
              "outlinewidth": 0,
              "ticks": ""
             }
            },
            "type": "scatter3d"
           }
          ],
          "scattercarpet": [
           {
            "marker": {
             "colorbar": {
              "outlinewidth": 0,
              "ticks": ""
             }
            },
            "type": "scattercarpet"
           }
          ],
          "scattergeo": [
           {
            "marker": {
             "colorbar": {
              "outlinewidth": 0,
              "ticks": ""
             }
            },
            "type": "scattergeo"
           }
          ],
          "scattergl": [
           {
            "marker": {
             "colorbar": {
              "outlinewidth": 0,
              "ticks": ""
             }
            },
            "type": "scattergl"
           }
          ],
          "scattermapbox": [
           {
            "marker": {
             "colorbar": {
              "outlinewidth": 0,
              "ticks": ""
             }
            },
            "type": "scattermapbox"
           }
          ],
          "scatterpolar": [
           {
            "marker": {
             "colorbar": {
              "outlinewidth": 0,
              "ticks": ""
             }
            },
            "type": "scatterpolar"
           }
          ],
          "scatterpolargl": [
           {
            "marker": {
             "colorbar": {
              "outlinewidth": 0,
              "ticks": ""
             }
            },
            "type": "scatterpolargl"
           }
          ],
          "scatterternary": [
           {
            "marker": {
             "colorbar": {
              "outlinewidth": 0,
              "ticks": ""
             }
            },
            "type": "scatterternary"
           }
          ],
          "surface": [
           {
            "colorbar": {
             "outlinewidth": 0,
             "ticks": ""
            },
            "colorscale": [
             [
              0,
              "#0d0887"
             ],
             [
              0.1111111111111111,
              "#46039f"
             ],
             [
              0.2222222222222222,
              "#7201a8"
             ],
             [
              0.3333333333333333,
              "#9c179e"
             ],
             [
              0.4444444444444444,
              "#bd3786"
             ],
             [
              0.5555555555555556,
              "#d8576b"
             ],
             [
              0.6666666666666666,
              "#ed7953"
             ],
             [
              0.7777777777777778,
              "#fb9f3a"
             ],
             [
              0.8888888888888888,
              "#fdca26"
             ],
             [
              1,
              "#f0f921"
             ]
            ],
            "type": "surface"
           }
          ],
          "table": [
           {
            "cells": {
             "fill": {
              "color": "#EBF0F8"
             },
             "line": {
              "color": "white"
             }
            },
            "header": {
             "fill": {
              "color": "#C8D4E3"
             },
             "line": {
              "color": "white"
             }
            },
            "type": "table"
           }
          ]
         },
         "layout": {
          "annotationdefaults": {
           "arrowcolor": "#2a3f5f",
           "arrowhead": 0,
           "arrowwidth": 1
          },
          "autotypenumbers": "strict",
          "coloraxis": {
           "colorbar": {
            "outlinewidth": 0,
            "ticks": ""
           }
          },
          "colorscale": {
           "diverging": [
            [
             0,
             "#8e0152"
            ],
            [
             0.1,
             "#c51b7d"
            ],
            [
             0.2,
             "#de77ae"
            ],
            [
             0.3,
             "#f1b6da"
            ],
            [
             0.4,
             "#fde0ef"
            ],
            [
             0.5,
             "#f7f7f7"
            ],
            [
             0.6,
             "#e6f5d0"
            ],
            [
             0.7,
             "#b8e186"
            ],
            [
             0.8,
             "#7fbc41"
            ],
            [
             0.9,
             "#4d9221"
            ],
            [
             1,
             "#276419"
            ]
           ],
           "sequential": [
            [
             0,
             "#0d0887"
            ],
            [
             0.1111111111111111,
             "#46039f"
            ],
            [
             0.2222222222222222,
             "#7201a8"
            ],
            [
             0.3333333333333333,
             "#9c179e"
            ],
            [
             0.4444444444444444,
             "#bd3786"
            ],
            [
             0.5555555555555556,
             "#d8576b"
            ],
            [
             0.6666666666666666,
             "#ed7953"
            ],
            [
             0.7777777777777778,
             "#fb9f3a"
            ],
            [
             0.8888888888888888,
             "#fdca26"
            ],
            [
             1,
             "#f0f921"
            ]
           ],
           "sequentialminus": [
            [
             0,
             "#0d0887"
            ],
            [
             0.1111111111111111,
             "#46039f"
            ],
            [
             0.2222222222222222,
             "#7201a8"
            ],
            [
             0.3333333333333333,
             "#9c179e"
            ],
            [
             0.4444444444444444,
             "#bd3786"
            ],
            [
             0.5555555555555556,
             "#d8576b"
            ],
            [
             0.6666666666666666,
             "#ed7953"
            ],
            [
             0.7777777777777778,
             "#fb9f3a"
            ],
            [
             0.8888888888888888,
             "#fdca26"
            ],
            [
             1,
             "#f0f921"
            ]
           ]
          },
          "colorway": [
           "#636efa",
           "#EF553B",
           "#00cc96",
           "#ab63fa",
           "#FFA15A",
           "#19d3f3",
           "#FF6692",
           "#B6E880",
           "#FF97FF",
           "#FECB52"
          ],
          "font": {
           "color": "#2a3f5f"
          },
          "geo": {
           "bgcolor": "white",
           "lakecolor": "white",
           "landcolor": "#E5ECF6",
           "showlakes": true,
           "showland": true,
           "subunitcolor": "white"
          },
          "hoverlabel": {
           "align": "left"
          },
          "hovermode": "closest",
          "mapbox": {
           "style": "light"
          },
          "paper_bgcolor": "white",
          "plot_bgcolor": "#E5ECF6",
          "polar": {
           "angularaxis": {
            "gridcolor": "white",
            "linecolor": "white",
            "ticks": ""
           },
           "bgcolor": "#E5ECF6",
           "radialaxis": {
            "gridcolor": "white",
            "linecolor": "white",
            "ticks": ""
           }
          },
          "scene": {
           "xaxis": {
            "backgroundcolor": "#E5ECF6",
            "gridcolor": "white",
            "gridwidth": 2,
            "linecolor": "white",
            "showbackground": true,
            "ticks": "",
            "zerolinecolor": "white"
           },
           "yaxis": {
            "backgroundcolor": "#E5ECF6",
            "gridcolor": "white",
            "gridwidth": 2,
            "linecolor": "white",
            "showbackground": true,
            "ticks": "",
            "zerolinecolor": "white"
           },
           "zaxis": {
            "backgroundcolor": "#E5ECF6",
            "gridcolor": "white",
            "gridwidth": 2,
            "linecolor": "white",
            "showbackground": true,
            "ticks": "",
            "zerolinecolor": "white"
           }
          },
          "shapedefaults": {
           "line": {
            "color": "#2a3f5f"
           }
          },
          "ternary": {
           "aaxis": {
            "gridcolor": "white",
            "linecolor": "white",
            "ticks": ""
           },
           "baxis": {
            "gridcolor": "white",
            "linecolor": "white",
            "ticks": ""
           },
           "bgcolor": "#E5ECF6",
           "caxis": {
            "gridcolor": "white",
            "linecolor": "white",
            "ticks": ""
           }
          },
          "title": {
           "x": 0.05
          },
          "xaxis": {
           "automargin": true,
           "gridcolor": "white",
           "linecolor": "white",
           "ticks": "",
           "title": {
            "standoff": 15
           },
           "zerolinecolor": "white",
           "zerolinewidth": 2
          },
          "yaxis": {
           "automargin": true,
           "gridcolor": "white",
           "linecolor": "white",
           "ticks": "",
           "title": {
            "standoff": 15
           },
           "zerolinecolor": "white",
           "zerolinewidth": 2
          }
         }
        },
        "xaxis": {
         "anchor": "y",
         "domain": [
          0,
          1
         ],
         "title": {
          "text": "Bean_grade"
         }
        },
        "yaxis": {
         "anchor": "x",
         "domain": [
          0,
          1
         ],
         "range": [
          0,
          1000
         ],
         "title": {
          "text": "NSamples"
         }
        }
       }
      }
     },
     "metadata": {},
     "output_type": "display_data"
    }
   ],
   "source": [
    "fig = px.bar( figdata, x = 'Bean_grade', y = 'NSamples', color='NSamples', range_y=[0.0,1000])\n",
    "fig.show()"
   ]
  },
  {
   "cell_type": "markdown",
   "metadata": {},
   "source": [
    "## (c) Data preparation (Prepare X)"
   ]
  },
  {
   "cell_type": "code",
   "execution_count": 54,
   "metadata": {},
   "outputs": [
    {
     "data": {
      "text/html": [
       "<div>\n",
       "<style scoped>\n",
       "    .dataframe tbody tr th:only-of-type {\n",
       "        vertical-align: middle;\n",
       "    }\n",
       "\n",
       "    .dataframe tbody tr th {\n",
       "        vertical-align: top;\n",
       "    }\n",
       "\n",
       "    .dataframe thead th {\n",
       "        text-align: right;\n",
       "    }\n",
       "</style>\n",
       "<table border=\"1\" class=\"dataframe\">\n",
       "  <thead>\n",
       "    <tr style=\"text-align: right;\">\n",
       "      <th></th>\n",
       "      <th>Bean_grade</th>\n",
       "    </tr>\n",
       "  </thead>\n",
       "  <tbody>\n",
       "    <tr>\n",
       "      <th>0</th>\n",
       "      <td>3</td>\n",
       "    </tr>\n",
       "    <tr>\n",
       "      <th>1</th>\n",
       "      <td>3</td>\n",
       "    </tr>\n",
       "    <tr>\n",
       "      <th>2</th>\n",
       "      <td>3</td>\n",
       "    </tr>\n",
       "    <tr>\n",
       "      <th>3</th>\n",
       "      <td>3</td>\n",
       "    </tr>\n",
       "    <tr>\n",
       "      <th>4</th>\n",
       "      <td>3</td>\n",
       "    </tr>\n",
       "    <tr>\n",
       "      <th>...</th>\n",
       "      <td>...</td>\n",
       "    </tr>\n",
       "    <tr>\n",
       "      <th>998</th>\n",
       "      <td>1</td>\n",
       "    </tr>\n",
       "    <tr>\n",
       "      <th>999</th>\n",
       "      <td>1</td>\n",
       "    </tr>\n",
       "    <tr>\n",
       "      <th>1000</th>\n",
       "      <td>1</td>\n",
       "    </tr>\n",
       "    <tr>\n",
       "      <th>1001</th>\n",
       "      <td>1</td>\n",
       "    </tr>\n",
       "    <tr>\n",
       "      <th>1002</th>\n",
       "      <td>1</td>\n",
       "    </tr>\n",
       "  </tbody>\n",
       "</table>\n",
       "<p>1003 rows × 1 columns</p>\n",
       "</div>"
      ],
      "text/plain": [
       "      Bean_grade\n",
       "0              3\n",
       "1              3\n",
       "2              3\n",
       "3              3\n",
       "4              3\n",
       "...          ...\n",
       "998            1\n",
       "999            1\n",
       "1000           1\n",
       "1001           1\n",
       "1002           1\n",
       "\n",
       "[1003 rows x 1 columns]"
      ]
     },
     "execution_count": 54,
     "metadata": {},
     "output_type": "execute_result"
    }
   ],
   "source": [
    "# Standardized data ( X [ numerical feature columns ])\n",
    "Y_0 = pd.DataFrame()\n",
    "Y_0['Bean_grade'] = Y_list\n",
    "Y_0"
   ]
  }
 ],
 "metadata": {
  "kernelspec": {
   "display_name": "Python 3.9.6 64-bit",
   "language": "python",
   "name": "python3"
  },
  "language_info": {
   "codemirror_mode": {
    "name": "ipython",
    "version": 3
   },
   "file_extension": ".py",
   "mimetype": "text/x-python",
   "name": "python",
   "nbconvert_exporter": "python",
   "pygments_lexer": "ipython3",
   "version": "3.9.6"
  },
  "orig_nbformat": 4,
  "vscode": {
   "interpreter": {
    "hash": "e2f2ceed6f174f88c358632b040492d2769cf77c4b27b169ee4d5cb13a37ae81"
   }
  }
 },
 "nbformat": 4,
 "nbformat_minor": 2
}
